{
 "cells": [
  {
   "cell_type": "code",
   "execution_count": 1,
   "id": "d9dff952",
   "metadata": {},
   "outputs": [],
   "source": [
    "import matplotlib.pyplot as plt\n",
    "import random\n",
    "import time\n",
    "import numpy as np\n",
    "from IPython.display import clear_output"
   ]
  },
  {
   "cell_type": "markdown",
   "id": "e50724fb",
   "metadata": {},
   "source": [
    "### Classe Graphe avec tous les algorithmes de plus court chemin ###"
   ]
  },
  {
   "cell_type": "code",
   "execution_count": 2,
   "id": "ea85501b",
   "metadata": {},
   "outputs": [],
   "source": [
    "class L_graph:\n",
    "    def __init__(self,graphe, initNum = 0):\n",
    "        self.initNum = initNum # 0 si les numeros des noeuds du graphe commencent par zero et 1 s'ls commencent par 1\n",
    "        self.graphListAdj = graphe\n",
    "        self.n = len(self.graphListAdj)\n",
    "      \n",
    "    def listAdj(self,sommet):\n",
    "        return self.graphListAdj[sommet]\n",
    "\n",
    "    def trouve_min(self,M,ppdistance):\n",
    "        sommet = M[0]\n",
    "        mini = ppdistance[sommet]\n",
    "        for s in M:\n",
    "            if ppdistance[s] < mini :\n",
    "                mini = ppdistance[s]\n",
    "                sommet = s\n",
    "        return sommet\n",
    "\n",
    "    def maj_distances(self, sommet1, sommet2, ppdistance, pred):\n",
    "        # dans notre cas, tous les poids seront 1, d'ou la modification à la ligne suivante\n",
    "        #poid = poids[sommet1][sommet2] if poids else 1 \n",
    "        poid = 1\n",
    "        if ppdistance[sommet2] > (ppdistance[sommet1] + poid):\n",
    "            ppdistance[sommet2] = ppdistance[sommet1] + poid\n",
    "            pred[sommet2] = sommet1\n",
    "\n",
    "    def buildPath(self, pred, noeudInitial, noeudFinal):\n",
    "        path = [noeudFinal]\n",
    "        while(noeudFinal != noeudInitial):\n",
    "            noeudFinal = pred[noeudFinal]\n",
    "            path.insert(0,noeudFinal)\n",
    "        return path\n",
    "\n",
    "    def djikstra(self,noeudInitial, noeudFinal = None):\n",
    "        #Initialisation\n",
    "        if self.initNum == 1:\n",
    "            pred = list(range(0,self.n+self.initNum))\n",
    "        else:\n",
    "            pred = list(range(0, self.n))\n",
    "        ppdistance = [float('inf')]*(self.n+self.initNum)\n",
    "        ppdistance[noeudInitial] = 0\n",
    "        M=list(range(self.initNum,self.n+self.initNum))\n",
    "\n",
    "        while (M!=[]):\n",
    "            noeudCourrant = self.trouve_min(M,ppdistance)\n",
    "            M.remove(noeudCourrant)\n",
    "            for voisin in self.listAdj(noeudCourrant):\n",
    "                self.maj_distances(noeudCourrant, voisin,ppdistance, pred)\n",
    "\n",
    "        if noeudFinal:\n",
    "            return self.buildPath(pred, noeudInitial, noeudFinal)\n",
    "        else:\n",
    "            return [ppdistance,pred]\n",
    " "
   ]
  },
  {
   "cell_type": "markdown",
   "id": "19aee957",
   "metadata": {},
   "source": [
    "### Initialisation et redimensionnement du tableau ####\n",
    "\n",
    "*maze map = carte du labyrinthe*\n",
    "\n",
    "Ce tableau contient les différentes couleurs du labyrinthe.\n",
    "Il est dénommé **maze_map** pour plus de clarté. \n",
    "\n",
    "#### 1.1 Initialisation du tableau ####"
   ]
  }
 ],
 "metadata": {
  "kernelspec": {
   "display_name": "Python 3 (ipykernel)",
   "language": "python",
   "name": "python3"
  },
  "language_info": {
   "codemirror_mode": {
    "name": "ipython",
    "version": 3
   },
   "file_extension": ".py",
   "mimetype": "text/x-python",
   "name": "python",
   "nbconvert_exporter": "python",
   "pygments_lexer": "ipython3",
   "version": "3.9.13"
  }
 },
 "nbformat": 4,
 "nbformat_minor": 5
}
