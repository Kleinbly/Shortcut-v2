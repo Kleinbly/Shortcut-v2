{
 "cells": [
  {
   "cell_type": "code",
   "execution_count": 1,
   "id": "57b4d42d",
   "metadata": {},
   "outputs": [],
   "source": [
    "import matplotlib.pyplot as plt\n",
    "import random\n",
    "import time\n",
    "import numpy as np\n",
    "from IPython.display import clear_output"
   ]
  },
  {
   "cell_type": "markdown",
   "id": "e58aea82",
   "metadata": {},
   "source": [
    "### Classe Graphe avec tous les algorithmes de plus court chemin ###"
   ]
  },
  {
   "cell_type": "code",
   "execution_count": 2,
   "id": "3c81495d",
   "metadata": {},
   "outputs": [],
   "source": [
    "class L_graph:\n",
    "    def __init__(self,graphe, initNum = 0):\n",
    "        self.initNum = initNum # 0 si les numeros des noeuds du graphe commencent par zero et 1 s'ls commencent par 1\n",
    "        self.graphListAdj = graphe\n",
    "        self.n = len(self.graphListAdj)\n",
    "      \n",
    "    def listAdj(self,sommet):\n",
    "        return self.graphListAdj[sommet]\n",
    "\n",
    "    def trouve_min(self,M,ppdistance):\n",
    "        sommet = M[0]\n",
    "        mini = ppdistance[sommet]\n",
    "        for s in M:\n",
    "            if ppdistance[s] < mini :\n",
    "                mini = ppdistance[s]\n",
    "                sommet = s\n",
    "        return sommet\n",
    "\n",
    "    def maj_distances(self, sommet1, sommet2, ppdistance, pred):\n",
    "        # dans notre cas, tous les poids seront 1, d'ou la modification à la ligne suivante\n",
    "        #poid = poids[sommet1][sommet2] if poids else 1 \n",
    "        poid = 1\n",
    "        if ppdistance[sommet2] > (ppdistance[sommet1] + poid):\n",
    "            ppdistance[sommet2] = ppdistance[sommet1] + poid\n",
    "            pred[sommet2] = sommet1\n",
    "\n",
    "    def buildPath(self, pred, noeudInitial, noeudFinal):\n",
    "        path = [noeudFinal]\n",
    "        while(noeudFinal != noeudInitial):\n",
    "            noeudFinal = pred[noeudFinal]\n",
    "            path.insert(0,noeudFinal)\n",
    "        return path\n",
    "\n",
    "    def djikstra(self,noeudInitial, noeudFinal = None):\n",
    "        #Initialisation\n",
    "        if self.initNum == 1:\n",
    "            pred = list(range(0,self.n+self.initNum))\n",
    "        else:\n",
    "            pred = list(range(0, self.n))\n",
    "        ppdistance = [float('inf')]*(self.n+self.initNum)\n",
    "        ppdistance[noeudInitial] = 0\n",
    "        M=list(range(self.initNum,self.n+self.initNum))\n",
    "\n",
    "        while (M!=[]):\n",
    "            noeudCourrant = self.trouve_min(M,ppdistance)\n",
    "            M.remove(noeudCourrant)\n",
    "            for voisin in self.listAdj(noeudCourrant):\n",
    "                self.maj_distances(noeudCourrant, voisin,ppdistance, pred)\n",
    "\n",
    "        if noeudFinal:\n",
    "            return self.buildPath(pred, noeudInitial, noeudFinal)\n",
    "        else:\n",
    "            return [ppdistance,pred]\n",
    " "
   ]
  },
  {
   "cell_type": "markdown",
   "id": "00bfed56",
   "metadata": {},
   "source": [
    "### Initialisation et redimensionnement du tableau ####\n",
    "\n",
    "*maze map = carte du labyrinthe*\n",
    "\n",
    "Ce tableau contient les différentes couleurs du labyrinthe.\n",
    "Il est dénommé **maze_map** pour plus de clarté. \n",
    "\n",
    "#### 1.1 Initialisation du tableau ####"
   ]
  },
  {
   "cell_type": "markdown",
   "id": "e114aa44",
   "metadata": {},
   "source": [
    "#### 1.2 Méthodes de génération de la liste d'adjacence à partir de *maze_map* #####\n",
    "\n",
    "\\\\\\ **1ère étape** : Parcours du tableau maze_map à la recherche de tous les blocks qui sont des chemins(**roads**)\n",
    "\n",
    "\n",
    "\\\\\\ **2ème étape** : Trouver les roadblocks(chemin praticable ou **road**) et générer la liste d'adjacence\n"
   ]
  },
  {
   "cell_type": "code",
   "execution_count": 3,
   "id": "6de43577",
   "metadata": {},
   "outputs": [],
   "source": [
    "nature_dict = {'sidewalk': [0.8], 'road':[1] }\n",
    "\n",
    "# Addition de deux tuples\n",
    "def tuple_addition(tuple1, tuple2):\n",
    "        result = tuple(x + y for x, y in zip(tuple1, tuple2))\n",
    "        return result\n",
    "\n",
    "class Map:\n",
    "    \n",
    "    current_cols = 10     # Nombre de colonnes\n",
    "    current_rows =10      #Nombre de lignes\n",
    "    maze_map =  [[0 for _ in range(10)] for _ in range(10)]    # Cartographie du labyrinthe avec aussi les positions des agents\n",
    "    \n",
    "    all_maps = {}\n",
    "    all_maps_reverse = {}\n",
    "    \n",
    "    \n",
    "    def __init__(self, nature:str):\n",
    "        self.nature = nature\n",
    "        self.nature_index = []    # Valeur par laquelle on reconnaît le block de même nature sur maze_map\n",
    "        \n",
    "        self.roadblocks = []     # Tableau contenant tous les blocks de maze_map qui sont des roads(chemins praticables) \n",
    "        self.roadblocks2 = {}     # Set pour la recherche plus rapide \n",
    "        self.adjacency_list = {}     # Liste d'adjacence par rapport au milieu\n",
    "        \n",
    "        self.define_nature_spectrum()\n",
    "        Map.all_maps[self] = self.nature    #Ajout dans le set 'all_maps'\n",
    "        Map.all_maps_reverse[self.nature] = self    #Ajout dans le set 'all_maps'\n",
    "    \n",
    "    def define_nature_spectrum(self):\n",
    "        self.nature_index = nature_dict[self.nature]\n",
    "        \n",
    "\n",
    "    def check(self,block, neighbor):\n",
    "        block = self.roadblocks2[block]\n",
    "    \n",
    "        if neighbor in self.roadblocks:\n",
    "            neighbor = self.roadblocks2[neighbor]\n",
    "            if self.adjacency_list.get(block) is None:\n",
    "                self.adjacency_list[block] = {neighbor}\n",
    "            else:\n",
    "                self.adjacency_list[block].add(neighbor)\n",
    "            \n",
    "            if self.adjacency_list.get(neighbor) is None:\n",
    "                self.adjacency_list[neighbor] = {block}\n",
    "            else:\n",
    "                 self.adjacency_list[neighbor].add(block)\n",
    "\n",
    " \n",
    "    def find_neighboring_roadblocks(self,block):\n",
    "        #Left-Top block\n",
    "        lt = tuple_addition(block , (-1,1))\n",
    "        self.check(block, lt)\n",
    "            \n",
    "        #Top block\n",
    "        t = tuple_addition(block , (0,1))\n",
    "        self.check(block, t)\n",
    "            \n",
    "        #Right-Top block\n",
    "        rt = tuple_addition(block , (1,1))\n",
    "        self.check(block, rt)\n",
    "            \n",
    "        #Left block\n",
    "        l = tuple_addition(block , (-1,0))\n",
    "        self.check(block, l)\n",
    "            \n",
    "        #Right block\n",
    "        r = tuple_addition(block , (1,0))\n",
    "        self.check(block, r)\n",
    "            \n",
    "        #Left-Down block\n",
    "        ld = tuple_addition(block , (-1,-1))\n",
    "        self.check(block, ld)\n",
    "    \n",
    "        #Down block\n",
    "        d = tuple_addition(block , (0,-1))\n",
    "        self.check(block, d)\n",
    "            \n",
    "        #Rigth-Top block\n",
    "        rd = tuple_addition(block , (1,-1))\n",
    "        self.check(block, rd)\n",
    "        \n",
    "    \n",
    "    def generate_adjacency_list(self):\n",
    "        # new_map est l'objet de la classe Map dans lequel toutes les informations relatives au \n",
    "        #chemin que peut empreinter tous les agents de même nature\n",
    "    \n",
    "        self.adjacency_list.clear()\n",
    "        self.roadblocks2.clear()\n",
    "    \n",
    "        #Première étape\n",
    "    \n",
    "        i, j, k = 0, 0, 0\n",
    "        for i in range(Map.current_rows):\n",
    "            j= 0\n",
    "            for j in range(Map.current_cols):\n",
    "                if Map.maze_map[i][j] in self.nature_index: # Vérifie la valeur entière représentant un chemin praticable\n",
    "                    tmp = (j,i)\n",
    "                    self.roadblocks.append(tmp) #Ajout des coordonées du road_block dans le tableau roadblocks[]  || j => X-Axis  &  i => Y-Axis\n",
    "                    self.roadblocks2[tmp] = k\n",
    "                    k = k+1\n",
    "    \n",
    "        #Deuxième étape\n",
    "    \n",
    "        for roadblock in self.roadblocks:\n",
    "            self.find_neighboring_roadblocks(roadblock)"
   ]
  },
  {
   "cell_type": "markdown",
   "id": "7b854a13",
   "metadata": {},
   "source": [
    "#### 2. Redimensionnement du tableau ####"
   ]
  },
  {
   "cell_type": "code",
   "execution_count": 4,
   "id": "0af4f575",
   "metadata": {},
   "outputs": [],
   "source": [
    "def resize_table(new_rows, new_cols):\n",
    "    current_rows = len(Map.maze_map)\n",
    "    current_cols = len(Map.maze_map[0])\n",
    "    \n",
    "    # Ajouter des lignes si la nouvelle taille est supérieur à la taille actuelle\n",
    "    if new_rows > current_rows:\n",
    "        for _ in range(new_rows - current_rows):\n",
    "            Map.maze_map.append([0 for _ in range(current_cols)])\n",
    "\n",
    "    # Enlever des lignes si la nouvelle taille est supérieur à la taille actuelle\n",
    "    elif new_rows < current_rows:\n",
    "        Map.maze_map = Map.maze_map[:new_rows]\n",
    "\n",
    "    # Ajouter des colonnes si la nouvelle taille est supérieur à la taille actuelle\n",
    "    if new_cols > current_cols:\n",
    "        for row in Map.maze_map:\n",
    "            row.extend([0 for _ in range(new_cols - current_cols)])\n",
    "\n",
    "    # Enlever des colonnes si la nouvelle taille est supérieur à la taille actuelle\n",
    "    elif new_cols < current_cols:\n",
    "        for row in Map.maze_map:\n",
    "            row = row[:new_cols]\n",
    "            \n",
    "    # Mise à jour des variables 'current_rows' et 'current_cols' dans la classe Map\n",
    "    Map.current_rows = new_rows\n",
    "    Map.current_cols = new_cols"
   ]
  },
  {
   "cell_type": "markdown",
   "id": "4e08303d",
   "metadata": {},
   "source": [
    "  ### Couleurs des dalles ###"
   ]
  },
  {
   "cell_type": "code",
   "execution_count": 5,
   "id": "c1a5bf10",
   "metadata": {},
   "outputs": [],
   "source": [
    "off_road = 0.35\n",
    "sidewalk = 0.8\n",
    "road = 1\n",
    "initial_position = [0,0]"
   ]
  },
  {
   "cell_type": "markdown",
   "id": "4a6d31f8",
   "metadata": {},
   "source": [
    "### Lecture du fichier contenant la modélisation du chemin ###"
   ]
  },
  {
   "cell_type": "code",
   "execution_count": 6,
   "id": "80af8894",
   "metadata": {},
   "outputs": [],
   "source": [
    "def execute_once(any_boolean):\n",
    "    if any_boolean == False:\n",
    "        any_boolean = True\n",
    "    return any_boolean\n",
    "    \n",
    "def lecture_fichier_csv():\n",
    "    instruction_executed = False\n",
    "    # Chemin du fichier CSV\n",
    "    file_path = \"C:/Users/hp/Downloads/Chemin2.csv\"  # ATTENTION : CE CHEMIN INDIQUE L'EMPLACEMENT DU FICHIER CSV.\n",
    "    \n",
    "    # Ouverture du fichier en mode lecture\n",
    "    with open(file_path, 'r') as file:\n",
    "        #Lecture des lignes du fichier\n",
    "        lines = file.readlines()\n",
    "        \n",
    "        # Enregisrement des dimensions de l'axe Y\n",
    "        yAxis = len(lines)\n",
    "        \n",
    "        # La lecture des lignes se fait du bas vers le haut\n",
    "        i = len(lines)-1\n",
    "        j = 0\n",
    "        \n",
    "        # Parcours de chaque ligne\n",
    "        for line in lines:\n",
    "            # Divise chaque ligne en valeurs individuelles\n",
    "            values = line.strip().split(',')\n",
    "            \n",
    "            if not instruction_executed:\n",
    "                # Enregisrement des dimensions de l'axe X\n",
    "                xAxis = len(values)\n",
    "                resize_table(yAxis,xAxis)\n",
    "                instruction_executed = execute_once(instruction_executed)\n",
    "            \n",
    "            \n",
    "            # Réinitialisation de l'index j à chaque passage sur une nouvelle ligne\n",
    "            j = 0\n",
    "            \n",
    "            # Accès à chacune des valeurs et remplissage du maze_map (Tableau représentant le chemin du labyrinthe)\n",
    "            for value in values:\n",
    "                    if value == '':\n",
    "                        Map.maze_map[i][j] = off_road\n",
    "                    else:\n",
    "                        Map.maze_map[i][j] = 1 if int(value) == 1 else 0.8\n",
    "                        #Map.maze_map[i][j] = road\n",
    "                    j = j+ 1\n",
    "            i = i- 1\n",
    "        file.close()"
   ]
  },
  {
   "cell_type": "markdown",
   "id": "3f4147f7",
   "metadata": {},
   "source": [
    "### Génération de la liste d'adjacence à partir de *maze_map* pour tous les maps ###"
   ]
  },
  {
   "cell_type": "code",
   "execution_count": 7,
   "id": "61e33345",
   "metadata": {},
   "outputs": [],
   "source": [
    "def generate_all_adjacency_list():\n",
    "    Map.all_maps.clear()\n",
    "    for nature_type in nature_dict:\n",
    "        new_map = Map(nature_type)\n",
    "    for map_object in (Map.all_maps):\n",
    "        if(map_object.adjacency_list is not None):\n",
    "            map_object.generate_adjacency_list()"
   ]
  },
  {
   "cell_type": "markdown",
   "id": "ecad4140",
   "metadata": {},
   "source": [
    "### Affichage du labyrinthe ###"
   ]
  },
  {
   "cell_type": "code",
   "execution_count": 8,
   "id": "2633ab2f",
   "metadata": {},
   "outputs": [],
   "source": [
    "def plotting(new_updates):\n",
    "    clear_output(wait = True) # Efface la figure précédente\n",
    "        \n",
    "    # Graduation des axes\n",
    "    x = np.arange(0, Map.current_cols, 1)  \n",
    "    y = np.arange(0, Map.current_rows, 1)\n",
    "        \n",
    "\n",
    "    fig, ax = plt.subplots()\n",
    "    maze_map = Map.maze_map\n",
    "    \n",
    "    a, b = new_updates[\"pedestrian\"]\n",
    "    c, d = new_updates[\"car\"]\n",
    "    \n",
    "    ax.plot(a, b, marker='o', markersize=10, color='red')\n",
    "    ax.plot(c, d, marker='D', markersize=10, color='blue')\n",
    "    \n",
    "    ax.pcolormesh(x, y, maze_map)\n",
    "    plt.show()\n",
    "        "
   ]
  },
  {
   "cell_type": "markdown",
   "id": "c46b9d13",
   "metadata": {},
   "source": [
    "### Création de la classe \"Agent\" ###"
   ]
  },
  {
   "cell_type": "code",
   "execution_count": 9,
   "id": "80f0a728",
   "metadata": {},
   "outputs": [],
   "source": [
    "def generating_path_djikstra(map_object,noeud_initial, noeud_final):\n",
    "    #appel du graphe\n",
    "    graph = L_graph(map_object.adjacency_list)\n",
    "    poids = None\n",
    "    return graph.djikstra(noeud_initial, noeud_final)\n",
    "    #implique qu'il faudra initialiser le graphe en tant que 'graph' avant d'appeler cette fonction\n",
    "    \n",
    "class Agent:\n",
    "    \n",
    "    # 'all_agents' tableau contenant les différents agents en tant qu'objets\n",
    "    all_agents = []\n",
    "    longest_path = 0\n",
    "    def __init__(self, nature:str, current_position, destination = None):\n",
    "        assert (nature == 'pedestrian' or nature == 'car'), f\"{nature} n'est pas compatible comme Agent\"\n",
    "        self. nature = nature\n",
    "        self.current_position = current_position\n",
    "        self.previous_position = current_position\n",
    "        self.destination = destination\n",
    "        self.path = None\n",
    "        self.path2 = None\n",
    "       \n",
    "        \n",
    "        # Chaque fois qu'un nouvel agent est créé, il est stocké dans la liste 'all_agents'\n",
    "        Agent.all_agents.append(self)\n",
    "        \n",
    "    def get_longest_path_size(self):\n",
    "        if len(self.path2) > Agent.longest_path :\n",
    "            Agent.longest_path = len(self.path2)\n",
    "            \n",
    "    #Fonction qui va générer des path pour tous les agents\n",
    "    def generate_path(self, map_object):\n",
    "        self.path = generating_path_djikstra(map_object,map_object.roadblocks2[self.current_position], map_object.roadblocks2[self.destination])\n",
    "        self.path2 = []\n",
    "        \n",
    "        for cell in self.path:\n",
    "            self.path2.append(map_object.roadblocks[cell])\n",
    "            \n",
    "        self.get_longest_path_size()"
   ]
  },
  {
   "cell_type": "markdown",
   "id": "5042e6bc",
   "metadata": {},
   "source": [
    "### Création des chemins pour chaque 'Agent' ###"
   ]
  },
  {
   "cell_type": "code",
   "execution_count": 10,
   "id": "3dba26c0",
   "metadata": {},
   "outputs": [],
   "source": [
    "#Fonction qui va générer des path pour tous les agents\n",
    "\n",
    "def generate_paths():\n",
    "    for agent in Agent.all_agents:\n",
    "        #on crée un chemin avec l'algo de djikstra pour chaque agent qu'on va lui assigner\n",
    "\n",
    "        if agent.nature == \"pedestrian\":\n",
    "                mapping = Map.all_maps_reverse[\"sidewalk\"]\n",
    "        elif agent.nature == \"car\":\n",
    "                mapping = Map.all_maps_reverse[\"road\"]\n",
    "        else:\n",
    "                print(\"No match was found\")\n",
    "                \n",
    "        agent.generate_path(mapping)"
   ]
  },
  {
   "cell_type": "markdown",
   "id": "52ce121f",
   "metadata": {},
   "source": [
    "### Mise à jour de la position des agents ###"
   ]
  },
  {
   "cell_type": "code",
   "execution_count": 11,
   "id": "d2c8fe30",
   "metadata": {},
   "outputs": [],
   "source": [
    "def update_agent_position():\n",
    "    agents_path = {}\n",
    "    updates = {}\n",
    "    \n",
    "    for agent in Agent.all_agents:\n",
    "        agents_path[agent] = agent.path2\n",
    "        \n",
    "    j = 0\n",
    "    for j in range (Agent.longest_path):\n",
    "        updates.clear()\n",
    "        for agent in agents_path:\n",
    "            if j < len(agent.path2):\n",
    "                updates[agent.nature] = agent.path2[j]\n",
    "                agent.current_position = agent.path2[j]\n",
    "            else:\n",
    "                updates[agent.nature] = agent.current_position\n",
    "        plotting(updates)\n",
    "        time.sleep(0.5)\n",
    "        j = j +1         "
   ]
  },
  {
   "cell_type": "markdown",
   "id": "44b6899c",
   "metadata": {},
   "source": [
    "# Execution du programme #"
   ]
  },
  {
   "cell_type": "code",
   "execution_count": 12,
   "id": "50f6b27c",
   "metadata": {},
   "outputs": [],
   "source": [
    "lecture_fichier_csv()\n",
    "generate_all_adjacency_list()"
   ]
  },
  {
   "cell_type": "code",
   "execution_count": null,
   "id": "f4700a47",
   "metadata": {},
   "outputs": [
    {
     "data": {
      "image/png": "[encoded data removed]",
      "text/plain": [
       "<Figure size 640x480 with 1 Axes>"
      ]
     },
     "metadata": {},
     "output_type": "display_data"
    }
   ],
   "source": [
    "#Tested values\n",
    "# Bob :(0,0),(28,19) ,,, Ferrari: (0,0), (0,6)\n",
    "# Bob :(19,5), (28,19) ,,, Ferrari: (26,10), (0,6)\n",
    "#Bob est un piéton et Ferrari est une voiture\n",
    "Bob = Agent(\"pedestrian\", (2,20), (4,0) )\n",
    "Ferrari = Agent(\"car\", (26,10), (0,6) )\n",
    "generate_paths()\n",
    "update_agent_position()"
   ]
  },
  {
   "cell_type": "markdown",
   "id": "e39e606b",
   "metadata": {},
   "source": [
    "Les blocks **jaunes** représentent la voie automobile.\n",
    "\n",
    "Les blocks **verts** représentent la voie pour les piétons.\n",
    "\n",
    "Le diamond bleu représentent la voiture(Ferrari)\n",
    "\n",
    "Le cercle rouge représentent la voie pour un piéton(Bob)"
   ]
  },
  {
   "cell_type": "code",
   "execution_count": null,
   "id": "54331062",
   "metadata": {},
   "outputs": [],
   "source": []
  }
 ],
 "metadata": {
  "kernelspec": {
   "display_name": "Python 3 (ipykernel)",
   "language": "python",
   "name": "python3"
  },
  "language_info": {
   "codemirror_mode": {
    "name": "ipython",
    "version": 3
   },
   "file_extension": ".py",
   "mimetype": "text/x-python",
   "name": "python",
   "nbconvert_exporter": "python",
   "pygments_lexer": "ipython3",
   "version": "3.9.13"
  }
 },
 "nbformat": 4,
 "nbformat_minor": 5
}
